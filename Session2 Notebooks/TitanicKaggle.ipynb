{
 "cells": [
  {
   "cell_type": "code",
   "execution_count": 1234,
   "id": "af3c2ad7",
   "metadata": {},
   "outputs": [
    {
     "data": {
      "text/plain": [
       "20"
      ]
     },
     "execution_count": 1234,
     "metadata": {},
     "output_type": "execute_result"
    }
   ],
   "source": [
    "import numpy as np\n",
    "import pandas as pd\n",
    "import tensorflow as tf\n",
    "import matplotlib.pyplot as plt\n",
    "import sklearn\n",
    "import seaborn as sns\n",
    "pd.get_option(\"display.max_columns\")"
   ]
  },
  {
   "cell_type": "code",
   "execution_count": 1235,
   "id": "81f590d8",
   "metadata": {},
   "outputs": [],
   "source": [
    "train = pd.read_csv('train.csv')\n",
    "submission = pd.read_csv('test.csv')\n",
    "\n",
    "submission_ids = pd.Series(submission[\"PassengerId\"])"
   ]
  },
  {
   "cell_type": "code",
   "execution_count": 1236,
   "id": "b85a4e2c",
   "metadata": {},
   "outputs": [
    {
     "data": {
      "text/html": [
       "<div>\n",
       "<style scoped>\n",
       "    .dataframe tbody tr th:only-of-type {\n",
       "        vertical-align: middle;\n",
       "    }\n",
       "\n",
       "    .dataframe tbody tr th {\n",
       "        vertical-align: top;\n",
       "    }\n",
       "\n",
       "    .dataframe thead th {\n",
       "        text-align: right;\n",
       "    }\n",
       "</style>\n",
       "<table border=\"1\" class=\"dataframe\">\n",
       "  <thead>\n",
       "    <tr style=\"text-align: right;\">\n",
       "      <th></th>\n",
       "      <th>PassengerId</th>\n",
       "      <th>Survived</th>\n",
       "      <th>Pclass</th>\n",
       "      <th>Name</th>\n",
       "      <th>Sex</th>\n",
       "      <th>Age</th>\n",
       "      <th>SibSp</th>\n",
       "      <th>Parch</th>\n",
       "      <th>Ticket</th>\n",
       "      <th>Fare</th>\n",
       "      <th>Cabin</th>\n",
       "      <th>Embarked</th>\n",
       "    </tr>\n",
       "  </thead>\n",
       "  <tbody>\n",
       "    <tr>\n",
       "      <th>0</th>\n",
       "      <td>1</td>\n",
       "      <td>0</td>\n",
       "      <td>3</td>\n",
       "      <td>Braund, Mr. Owen Harris</td>\n",
       "      <td>male</td>\n",
       "      <td>22.0</td>\n",
       "      <td>1</td>\n",
       "      <td>0</td>\n",
       "      <td>A/5 21171</td>\n",
       "      <td>7.2500</td>\n",
       "      <td>NaN</td>\n",
       "      <td>S</td>\n",
       "    </tr>\n",
       "    <tr>\n",
       "      <th>1</th>\n",
       "      <td>2</td>\n",
       "      <td>1</td>\n",
       "      <td>1</td>\n",
       "      <td>Cumings, Mrs. John Bradley (Florence Briggs Th...</td>\n",
       "      <td>female</td>\n",
       "      <td>38.0</td>\n",
       "      <td>1</td>\n",
       "      <td>0</td>\n",
       "      <td>PC 17599</td>\n",
       "      <td>71.2833</td>\n",
       "      <td>C85</td>\n",
       "      <td>C</td>\n",
       "    </tr>\n",
       "    <tr>\n",
       "      <th>2</th>\n",
       "      <td>3</td>\n",
       "      <td>1</td>\n",
       "      <td>3</td>\n",
       "      <td>Heikkinen, Miss. Laina</td>\n",
       "      <td>female</td>\n",
       "      <td>26.0</td>\n",
       "      <td>0</td>\n",
       "      <td>0</td>\n",
       "      <td>STON/O2. 3101282</td>\n",
       "      <td>7.9250</td>\n",
       "      <td>NaN</td>\n",
       "      <td>S</td>\n",
       "    </tr>\n",
       "    <tr>\n",
       "      <th>3</th>\n",
       "      <td>4</td>\n",
       "      <td>1</td>\n",
       "      <td>1</td>\n",
       "      <td>Futrelle, Mrs. Jacques Heath (Lily May Peel)</td>\n",
       "      <td>female</td>\n",
       "      <td>35.0</td>\n",
       "      <td>1</td>\n",
       "      <td>0</td>\n",
       "      <td>113803</td>\n",
       "      <td>53.1000</td>\n",
       "      <td>C123</td>\n",
       "      <td>S</td>\n",
       "    </tr>\n",
       "    <tr>\n",
       "      <th>4</th>\n",
       "      <td>5</td>\n",
       "      <td>0</td>\n",
       "      <td>3</td>\n",
       "      <td>Allen, Mr. William Henry</td>\n",
       "      <td>male</td>\n",
       "      <td>35.0</td>\n",
       "      <td>0</td>\n",
       "      <td>0</td>\n",
       "      <td>373450</td>\n",
       "      <td>8.0500</td>\n",
       "      <td>NaN</td>\n",
       "      <td>S</td>\n",
       "    </tr>\n",
       "  </tbody>\n",
       "</table>\n",
       "</div>"
      ],
      "text/plain": [
       "   PassengerId  Survived  Pclass  \\\n",
       "0            1         0       3   \n",
       "1            2         1       1   \n",
       "2            3         1       3   \n",
       "3            4         1       1   \n",
       "4            5         0       3   \n",
       "\n",
       "                                                Name     Sex   Age  SibSp  \\\n",
       "0                            Braund, Mr. Owen Harris    male  22.0      1   \n",
       "1  Cumings, Mrs. John Bradley (Florence Briggs Th...  female  38.0      1   \n",
       "2                             Heikkinen, Miss. Laina  female  26.0      0   \n",
       "3       Futrelle, Mrs. Jacques Heath (Lily May Peel)  female  35.0      1   \n",
       "4                           Allen, Mr. William Henry    male  35.0      0   \n",
       "\n",
       "   Parch            Ticket     Fare Cabin Embarked  \n",
       "0      0         A/5 21171   7.2500   NaN        S  \n",
       "1      0          PC 17599  71.2833   C85        C  \n",
       "2      0  STON/O2. 3101282   7.9250   NaN        S  \n",
       "3      0            113803  53.1000  C123        S  \n",
       "4      0            373450   8.0500   NaN        S  "
      ]
     },
     "execution_count": 1236,
     "metadata": {},
     "output_type": "execute_result"
    }
   ],
   "source": [
    "train.head()"
   ]
  },
  {
   "cell_type": "code",
   "execution_count": 1237,
   "id": "82a99e9e",
   "metadata": {},
   "outputs": [
    {
     "data": {
      "text/plain": [
       "(891, 12)"
      ]
     },
     "execution_count": 1237,
     "metadata": {},
     "output_type": "execute_result"
    }
   ],
   "source": [
    "train.shape"
   ]
  },
  {
   "cell_type": "code",
   "execution_count": 1238,
   "id": "4bc28630",
   "metadata": {},
   "outputs": [
    {
     "name": "stdout",
     "output_type": "stream",
     "text": [
      "<class 'pandas.core.frame.DataFrame'>\n",
      "RangeIndex: 891 entries, 0 to 890\n",
      "Data columns (total 12 columns):\n",
      " #   Column       Non-Null Count  Dtype  \n",
      "---  ------       --------------  -----  \n",
      " 0   PassengerId  891 non-null    int64  \n",
      " 1   Survived     891 non-null    int64  \n",
      " 2   Pclass       891 non-null    int64  \n",
      " 3   Name         891 non-null    object \n",
      " 4   Sex          891 non-null    object \n",
      " 5   Age          714 non-null    float64\n",
      " 6   SibSp        891 non-null    int64  \n",
      " 7   Parch        891 non-null    int64  \n",
      " 8   Ticket       891 non-null    object \n",
      " 9   Fare         891 non-null    float64\n",
      " 10  Cabin        204 non-null    object \n",
      " 11  Embarked     889 non-null    object \n",
      "dtypes: float64(2), int64(5), object(5)\n",
      "memory usage: 83.7+ KB\n"
     ]
    }
   ],
   "source": [
    "train.info()"
   ]
  },
  {
   "cell_type": "markdown",
   "id": "a2b74c78",
   "metadata": {},
   "source": [
    "# Exploratory data analysis"
   ]
  },
  {
   "cell_type": "code",
   "execution_count": null,
   "id": "bf679c4f",
   "metadata": {},
   "outputs": [],
   "source": []
  },
  {
   "cell_type": "code",
   "execution_count": null,
   "id": "c9895ee5",
   "metadata": {},
   "outputs": [],
   "source": []
  },
  {
   "cell_type": "markdown",
   "id": "83878c84",
   "metadata": {},
   "source": [
    "## Some features might not add value to the prediction"
   ]
  },
  {
   "cell_type": "code",
   "execution_count": 1239,
   "id": "20453e3c",
   "metadata": {},
   "outputs": [],
   "source": [
    "train.drop(['Name', 'PassengerId'], inplace = True, axis = 1)"
   ]
  },
  {
   "cell_type": "code",
   "execution_count": 1240,
   "id": "29ae7bca",
   "metadata": {},
   "outputs": [],
   "source": [
    "submission.drop(['Name', 'PassengerId'], inplace = True, axis = 1)"
   ]
  },
  {
   "cell_type": "code",
   "execution_count": 1241,
   "id": "e03c4e02",
   "metadata": {},
   "outputs": [
    {
     "data": {
      "text/html": [
       "<div>\n",
       "<style scoped>\n",
       "    .dataframe tbody tr th:only-of-type {\n",
       "        vertical-align: middle;\n",
       "    }\n",
       "\n",
       "    .dataframe tbody tr th {\n",
       "        vertical-align: top;\n",
       "    }\n",
       "\n",
       "    .dataframe thead th {\n",
       "        text-align: right;\n",
       "    }\n",
       "</style>\n",
       "<table border=\"1\" class=\"dataframe\">\n",
       "  <thead>\n",
       "    <tr style=\"text-align: right;\">\n",
       "      <th></th>\n",
       "      <th>Survived</th>\n",
       "      <th>Pclass</th>\n",
       "      <th>Sex</th>\n",
       "      <th>Age</th>\n",
       "      <th>SibSp</th>\n",
       "      <th>Parch</th>\n",
       "      <th>Ticket</th>\n",
       "      <th>Fare</th>\n",
       "      <th>Cabin</th>\n",
       "      <th>Embarked</th>\n",
       "    </tr>\n",
       "  </thead>\n",
       "  <tbody>\n",
       "    <tr>\n",
       "      <th>0</th>\n",
       "      <td>0</td>\n",
       "      <td>3</td>\n",
       "      <td>male</td>\n",
       "      <td>22.0</td>\n",
       "      <td>1</td>\n",
       "      <td>0</td>\n",
       "      <td>A/5 21171</td>\n",
       "      <td>7.2500</td>\n",
       "      <td>NaN</td>\n",
       "      <td>S</td>\n",
       "    </tr>\n",
       "    <tr>\n",
       "      <th>1</th>\n",
       "      <td>1</td>\n",
       "      <td>1</td>\n",
       "      <td>female</td>\n",
       "      <td>38.0</td>\n",
       "      <td>1</td>\n",
       "      <td>0</td>\n",
       "      <td>PC 17599</td>\n",
       "      <td>71.2833</td>\n",
       "      <td>C85</td>\n",
       "      <td>C</td>\n",
       "    </tr>\n",
       "    <tr>\n",
       "      <th>2</th>\n",
       "      <td>1</td>\n",
       "      <td>3</td>\n",
       "      <td>female</td>\n",
       "      <td>26.0</td>\n",
       "      <td>0</td>\n",
       "      <td>0</td>\n",
       "      <td>STON/O2. 3101282</td>\n",
       "      <td>7.9250</td>\n",
       "      <td>NaN</td>\n",
       "      <td>S</td>\n",
       "    </tr>\n",
       "    <tr>\n",
       "      <th>3</th>\n",
       "      <td>1</td>\n",
       "      <td>1</td>\n",
       "      <td>female</td>\n",
       "      <td>35.0</td>\n",
       "      <td>1</td>\n",
       "      <td>0</td>\n",
       "      <td>113803</td>\n",
       "      <td>53.1000</td>\n",
       "      <td>C123</td>\n",
       "      <td>S</td>\n",
       "    </tr>\n",
       "    <tr>\n",
       "      <th>4</th>\n",
       "      <td>0</td>\n",
       "      <td>3</td>\n",
       "      <td>male</td>\n",
       "      <td>35.0</td>\n",
       "      <td>0</td>\n",
       "      <td>0</td>\n",
       "      <td>373450</td>\n",
       "      <td>8.0500</td>\n",
       "      <td>NaN</td>\n",
       "      <td>S</td>\n",
       "    </tr>\n",
       "  </tbody>\n",
       "</table>\n",
       "</div>"
      ],
      "text/plain": [
       "   Survived  Pclass     Sex   Age  SibSp  Parch            Ticket     Fare  \\\n",
       "0         0       3    male  22.0      1      0         A/5 21171   7.2500   \n",
       "1         1       1  female  38.0      1      0          PC 17599  71.2833   \n",
       "2         1       3  female  26.0      0      0  STON/O2. 3101282   7.9250   \n",
       "3         1       1  female  35.0      1      0            113803  53.1000   \n",
       "4         0       3    male  35.0      0      0            373450   8.0500   \n",
       "\n",
       "  Cabin Embarked  \n",
       "0   NaN        S  \n",
       "1   C85        C  \n",
       "2   NaN        S  \n",
       "3  C123        S  \n",
       "4   NaN        S  "
      ]
     },
     "execution_count": 1241,
     "metadata": {},
     "output_type": "execute_result"
    }
   ],
   "source": [
    "train.head()"
   ]
  },
  {
   "cell_type": "markdown",
   "id": "9bb89293",
   "metadata": {},
   "source": [
    "There are some features that can seem important. However, without sufficient knowledge they are not of a good use."
   ]
  },
  {
   "cell_type": "code",
   "execution_count": 1242,
   "id": "c7c59511",
   "metadata": {},
   "outputs": [],
   "source": [
    "train.drop(['Ticket'], inplace = True, axis = 1)\n",
    "submission.drop(['Ticket'], inplace = True, axis = 1)"
   ]
  },
  {
   "cell_type": "code",
   "execution_count": 1243,
   "id": "046ec945",
   "metadata": {},
   "outputs": [
    {
     "data": {
      "text/html": [
       "<div>\n",
       "<style scoped>\n",
       "    .dataframe tbody tr th:only-of-type {\n",
       "        vertical-align: middle;\n",
       "    }\n",
       "\n",
       "    .dataframe tbody tr th {\n",
       "        vertical-align: top;\n",
       "    }\n",
       "\n",
       "    .dataframe thead th {\n",
       "        text-align: right;\n",
       "    }\n",
       "</style>\n",
       "<table border=\"1\" class=\"dataframe\">\n",
       "  <thead>\n",
       "    <tr style=\"text-align: right;\">\n",
       "      <th></th>\n",
       "      <th>Survived</th>\n",
       "      <th>Pclass</th>\n",
       "      <th>Sex</th>\n",
       "      <th>Age</th>\n",
       "      <th>SibSp</th>\n",
       "      <th>Parch</th>\n",
       "      <th>Fare</th>\n",
       "      <th>Cabin</th>\n",
       "      <th>Embarked</th>\n",
       "    </tr>\n",
       "  </thead>\n",
       "  <tbody>\n",
       "    <tr>\n",
       "      <th>0</th>\n",
       "      <td>0</td>\n",
       "      <td>3</td>\n",
       "      <td>male</td>\n",
       "      <td>22.0</td>\n",
       "      <td>1</td>\n",
       "      <td>0</td>\n",
       "      <td>7.2500</td>\n",
       "      <td>NaN</td>\n",
       "      <td>S</td>\n",
       "    </tr>\n",
       "    <tr>\n",
       "      <th>1</th>\n",
       "      <td>1</td>\n",
       "      <td>1</td>\n",
       "      <td>female</td>\n",
       "      <td>38.0</td>\n",
       "      <td>1</td>\n",
       "      <td>0</td>\n",
       "      <td>71.2833</td>\n",
       "      <td>C85</td>\n",
       "      <td>C</td>\n",
       "    </tr>\n",
       "    <tr>\n",
       "      <th>2</th>\n",
       "      <td>1</td>\n",
       "      <td>3</td>\n",
       "      <td>female</td>\n",
       "      <td>26.0</td>\n",
       "      <td>0</td>\n",
       "      <td>0</td>\n",
       "      <td>7.9250</td>\n",
       "      <td>NaN</td>\n",
       "      <td>S</td>\n",
       "    </tr>\n",
       "    <tr>\n",
       "      <th>3</th>\n",
       "      <td>1</td>\n",
       "      <td>1</td>\n",
       "      <td>female</td>\n",
       "      <td>35.0</td>\n",
       "      <td>1</td>\n",
       "      <td>0</td>\n",
       "      <td>53.1000</td>\n",
       "      <td>C123</td>\n",
       "      <td>S</td>\n",
       "    </tr>\n",
       "    <tr>\n",
       "      <th>4</th>\n",
       "      <td>0</td>\n",
       "      <td>3</td>\n",
       "      <td>male</td>\n",
       "      <td>35.0</td>\n",
       "      <td>0</td>\n",
       "      <td>0</td>\n",
       "      <td>8.0500</td>\n",
       "      <td>NaN</td>\n",
       "      <td>S</td>\n",
       "    </tr>\n",
       "  </tbody>\n",
       "</table>\n",
       "</div>"
      ],
      "text/plain": [
       "   Survived  Pclass     Sex   Age  SibSp  Parch     Fare Cabin Embarked\n",
       "0         0       3    male  22.0      1      0   7.2500   NaN        S\n",
       "1         1       1  female  38.0      1      0  71.2833   C85        C\n",
       "2         1       3  female  26.0      0      0   7.9250   NaN        S\n",
       "3         1       1  female  35.0      1      0  53.1000  C123        S\n",
       "4         0       3    male  35.0      0      0   8.0500   NaN        S"
      ]
     },
     "execution_count": 1243,
     "metadata": {},
     "output_type": "execute_result"
    }
   ],
   "source": [
    "train.head()"
   ]
  },
  {
   "cell_type": "markdown",
   "id": "861d5e9a",
   "metadata": {},
   "source": [
    "## Missing data"
   ]
  },
  {
   "cell_type": "code",
   "execution_count": 1244,
   "id": "c13c1139",
   "metadata": {},
   "outputs": [
    {
     "data": {
      "text/plain": [
       "Survived    0.000000\n",
       "Pclass      0.000000\n",
       "Sex         0.000000\n",
       "Age         0.198653\n",
       "SibSp       0.000000\n",
       "Parch       0.000000\n",
       "Fare        0.000000\n",
       "Cabin       0.771044\n",
       "Embarked    0.002245\n",
       "dtype: float64"
      ]
     },
     "execution_count": 1244,
     "metadata": {},
     "output_type": "execute_result"
    }
   ],
   "source": [
    "train.isnull().sum() / len(train)"
   ]
  },
  {
   "cell_type": "markdown",
   "id": "6614ae93",
   "metadata": {},
   "source": [
    "### Cabin 77% missing\n",
    "77% of the cabin feature is missing! Even if we tried to replace the missing data, it would not give accurate results because replacing missing data with a value is an educated guess. We are imposing what we think might be true."
   ]
  },
  {
   "cell_type": "code",
   "execution_count": 1245,
   "id": "b2474fbd",
   "metadata": {},
   "outputs": [],
   "source": [
    "train.drop(['Cabin'], inplace = True, axis = 1)\n",
    "submission.drop(['Cabin'], inplace = True, axis = 1)"
   ]
  },
  {
   "cell_type": "code",
   "execution_count": 1246,
   "id": "7d2aea97",
   "metadata": {},
   "outputs": [
    {
     "data": {
      "text/html": [
       "<div>\n",
       "<style scoped>\n",
       "    .dataframe tbody tr th:only-of-type {\n",
       "        vertical-align: middle;\n",
       "    }\n",
       "\n",
       "    .dataframe tbody tr th {\n",
       "        vertical-align: top;\n",
       "    }\n",
       "\n",
       "    .dataframe thead th {\n",
       "        text-align: right;\n",
       "    }\n",
       "</style>\n",
       "<table border=\"1\" class=\"dataframe\">\n",
       "  <thead>\n",
       "    <tr style=\"text-align: right;\">\n",
       "      <th></th>\n",
       "      <th>Survived</th>\n",
       "      <th>Pclass</th>\n",
       "      <th>Sex</th>\n",
       "      <th>Age</th>\n",
       "      <th>SibSp</th>\n",
       "      <th>Parch</th>\n",
       "      <th>Fare</th>\n",
       "      <th>Embarked</th>\n",
       "    </tr>\n",
       "  </thead>\n",
       "  <tbody>\n",
       "    <tr>\n",
       "      <th>0</th>\n",
       "      <td>0</td>\n",
       "      <td>3</td>\n",
       "      <td>male</td>\n",
       "      <td>22.0</td>\n",
       "      <td>1</td>\n",
       "      <td>0</td>\n",
       "      <td>7.2500</td>\n",
       "      <td>S</td>\n",
       "    </tr>\n",
       "    <tr>\n",
       "      <th>1</th>\n",
       "      <td>1</td>\n",
       "      <td>1</td>\n",
       "      <td>female</td>\n",
       "      <td>38.0</td>\n",
       "      <td>1</td>\n",
       "      <td>0</td>\n",
       "      <td>71.2833</td>\n",
       "      <td>C</td>\n",
       "    </tr>\n",
       "    <tr>\n",
       "      <th>2</th>\n",
       "      <td>1</td>\n",
       "      <td>3</td>\n",
       "      <td>female</td>\n",
       "      <td>26.0</td>\n",
       "      <td>0</td>\n",
       "      <td>0</td>\n",
       "      <td>7.9250</td>\n",
       "      <td>S</td>\n",
       "    </tr>\n",
       "    <tr>\n",
       "      <th>3</th>\n",
       "      <td>1</td>\n",
       "      <td>1</td>\n",
       "      <td>female</td>\n",
       "      <td>35.0</td>\n",
       "      <td>1</td>\n",
       "      <td>0</td>\n",
       "      <td>53.1000</td>\n",
       "      <td>S</td>\n",
       "    </tr>\n",
       "    <tr>\n",
       "      <th>4</th>\n",
       "      <td>0</td>\n",
       "      <td>3</td>\n",
       "      <td>male</td>\n",
       "      <td>35.0</td>\n",
       "      <td>0</td>\n",
       "      <td>0</td>\n",
       "      <td>8.0500</td>\n",
       "      <td>S</td>\n",
       "    </tr>\n",
       "  </tbody>\n",
       "</table>\n",
       "</div>"
      ],
      "text/plain": [
       "   Survived  Pclass     Sex   Age  SibSp  Parch     Fare Embarked\n",
       "0         0       3    male  22.0      1      0   7.2500        S\n",
       "1         1       1  female  38.0      1      0  71.2833        C\n",
       "2         1       3  female  26.0      0      0   7.9250        S\n",
       "3         1       1  female  35.0      1      0  53.1000        S\n",
       "4         0       3    male  35.0      0      0   8.0500        S"
      ]
     },
     "execution_count": 1246,
     "metadata": {},
     "output_type": "execute_result"
    }
   ],
   "source": [
    "train.head()"
   ]
  },
  {
   "cell_type": "markdown",
   "id": "186c8f90",
   "metadata": {},
   "source": [
    "### Age 20% missing and it is important"
   ]
  },
  {
   "cell_type": "code",
   "execution_count": 1247,
   "id": "89474f01",
   "metadata": {},
   "outputs": [],
   "source": [
    "train[['Age']] = train[['Age']].fillna(train[['Age']].mean())\n",
    "submission[['Age']] = submission[['Age']].fillna(submission[['Age']].mean())"
   ]
  },
  {
   "cell_type": "code",
   "execution_count": 1248,
   "id": "61e47394",
   "metadata": {},
   "outputs": [
    {
     "data": {
      "text/plain": [
       "Survived    0.000000\n",
       "Pclass      0.000000\n",
       "Sex         0.000000\n",
       "Age         0.000000\n",
       "SibSp       0.000000\n",
       "Parch       0.000000\n",
       "Fare        0.000000\n",
       "Embarked    0.002245\n",
       "dtype: float64"
      ]
     },
     "execution_count": 1248,
     "metadata": {},
     "output_type": "execute_result"
    }
   ],
   "source": [
    "train.isnull().sum() / len(train)"
   ]
  },
  {
   "cell_type": "markdown",
   "id": "516713f5",
   "metadata": {},
   "source": [
    "### When we see embarked we will find that it is categorical so how will we replace it? mean? median? ay 7aga\n",
    "\n",
    "<ol>\n",
    "    <li> We can remove the rows(which are 2 here; a very low number)</li>\n",
    "    <li> We can think of something else </li>\n",
    "</ol>"
   ]
  },
  {
   "cell_type": "code",
   "execution_count": 1249,
   "id": "52269468",
   "metadata": {},
   "outputs": [
    {
     "data": {
      "text/plain": [
       "<AxesSubplot:>"
      ]
     },
     "execution_count": 1249,
     "metadata": {},
     "output_type": "execute_result"
    },
    {
     "data": {
      "image/png": "[encoded data removed]",
      "text/plain": [
       "<Figure size 432x288 with 1 Axes>"
      ]
     },
     "metadata": {
      "needs_background": "light"
     },
     "output_type": "display_data"
    }
   ],
   "source": [
    "train['Embarked'].value_counts().plot(kind = 'bar')\n",
    "#plt.show()"
   ]
  },
  {
   "cell_type": "code",
   "execution_count": 1250,
   "id": "118fef78",
   "metadata": {},
   "outputs": [],
   "source": [
    "train[['Embarked']] = train[['Embarked']].fillna('S')\n",
    "submission[['Embarked']] = submission[['Embarked']].fillna('S')"
   ]
  },
  {
   "cell_type": "code",
   "execution_count": 1251,
   "id": "4c5b6d72",
   "metadata": {},
   "outputs": [
    {
     "data": {
      "text/plain": [
       "Survived    0.0\n",
       "Pclass      0.0\n",
       "Sex         0.0\n",
       "Age         0.0\n",
       "SibSp       0.0\n",
       "Parch       0.0\n",
       "Fare        0.0\n",
       "Embarked    0.0\n",
       "dtype: float64"
      ]
     },
     "execution_count": 1251,
     "metadata": {},
     "output_type": "execute_result"
    }
   ],
   "source": [
    "train.isnull().sum() / len(train)"
   ]
  },
  {
   "cell_type": "markdown",
   "id": "ad1f4d2f",
   "metadata": {},
   "source": [
    "# Categorical data"
   ]
  },
  {
   "cell_type": "markdown",
   "id": "96c68f64",
   "metadata": {},
   "source": [
    "An easy tutorial using different methods: https://towardsdatascience.com/ways-to-handle-categorical-data-before-train-ml-models-with-implementation-ffc213dc84ec"
   ]
  },
  {
   "cell_type": "code",
   "execution_count": 1252,
   "id": "38cb13f9",
   "metadata": {},
   "outputs": [
    {
     "data": {
      "text/html": [
       "<div>\n",
       "<style scoped>\n",
       "    .dataframe tbody tr th:only-of-type {\n",
       "        vertical-align: middle;\n",
       "    }\n",
       "\n",
       "    .dataframe tbody tr th {\n",
       "        vertical-align: top;\n",
       "    }\n",
       "\n",
       "    .dataframe thead th {\n",
       "        text-align: right;\n",
       "    }\n",
       "</style>\n",
       "<table border=\"1\" class=\"dataframe\">\n",
       "  <thead>\n",
       "    <tr style=\"text-align: right;\">\n",
       "      <th></th>\n",
       "      <th>Survived</th>\n",
       "      <th>Pclass</th>\n",
       "      <th>Sex</th>\n",
       "      <th>Age</th>\n",
       "      <th>SibSp</th>\n",
       "      <th>Parch</th>\n",
       "      <th>Fare</th>\n",
       "      <th>Embarked</th>\n",
       "    </tr>\n",
       "  </thead>\n",
       "  <tbody>\n",
       "    <tr>\n",
       "      <th>0</th>\n",
       "      <td>0</td>\n",
       "      <td>3</td>\n",
       "      <td>male</td>\n",
       "      <td>22.0</td>\n",
       "      <td>1</td>\n",
       "      <td>0</td>\n",
       "      <td>7.2500</td>\n",
       "      <td>S</td>\n",
       "    </tr>\n",
       "    <tr>\n",
       "      <th>1</th>\n",
       "      <td>1</td>\n",
       "      <td>1</td>\n",
       "      <td>female</td>\n",
       "      <td>38.0</td>\n",
       "      <td>1</td>\n",
       "      <td>0</td>\n",
       "      <td>71.2833</td>\n",
       "      <td>C</td>\n",
       "    </tr>\n",
       "    <tr>\n",
       "      <th>2</th>\n",
       "      <td>1</td>\n",
       "      <td>3</td>\n",
       "      <td>female</td>\n",
       "      <td>26.0</td>\n",
       "      <td>0</td>\n",
       "      <td>0</td>\n",
       "      <td>7.9250</td>\n",
       "      <td>S</td>\n",
       "    </tr>\n",
       "    <tr>\n",
       "      <th>3</th>\n",
       "      <td>1</td>\n",
       "      <td>1</td>\n",
       "      <td>female</td>\n",
       "      <td>35.0</td>\n",
       "      <td>1</td>\n",
       "      <td>0</td>\n",
       "      <td>53.1000</td>\n",
       "      <td>S</td>\n",
       "    </tr>\n",
       "    <tr>\n",
       "      <th>4</th>\n",
       "      <td>0</td>\n",
       "      <td>3</td>\n",
       "      <td>male</td>\n",
       "      <td>35.0</td>\n",
       "      <td>0</td>\n",
       "      <td>0</td>\n",
       "      <td>8.0500</td>\n",
       "      <td>S</td>\n",
       "    </tr>\n",
       "  </tbody>\n",
       "</table>\n",
       "</div>"
      ],
      "text/plain": [
       "   Survived  Pclass     Sex   Age  SibSp  Parch     Fare Embarked\n",
       "0         0       3    male  22.0      1      0   7.2500        S\n",
       "1         1       1  female  38.0      1      0  71.2833        C\n",
       "2         1       3  female  26.0      0      0   7.9250        S\n",
       "3         1       1  female  35.0      1      0  53.1000        S\n",
       "4         0       3    male  35.0      0      0   8.0500        S"
      ]
     },
     "execution_count": 1252,
     "metadata": {},
     "output_type": "execute_result"
    }
   ],
   "source": [
    "train.head()"
   ]
  },
  {
   "cell_type": "markdown",
   "id": "0911dffe",
   "metadata": {},
   "source": [
    "Label encoding"
   ]
  },
  {
   "cell_type": "code",
   "execution_count": 1253,
   "id": "af44c8b1",
   "metadata": {},
   "outputs": [
    {
     "data": {
      "text/plain": [
       "array(['S', 'C', 'Q'], dtype=object)"
      ]
     },
     "execution_count": 1253,
     "metadata": {},
     "output_type": "execute_result"
    }
   ],
   "source": [
    "train['Embarked'].unique()"
   ]
  },
  {
   "cell_type": "code",
   "execution_count": 1254,
   "id": "ac116c02",
   "metadata": {},
   "outputs": [
    {
     "data": {
      "text/plain": [
       "\"from sklearn import preprocessing\\nlabel_encoder = preprocessing.LabelEncoder()\\ntrain['Embarked'] = label_encoder.fit_transform(train['Embarked'])\""
      ]
     },
     "execution_count": 1254,
     "metadata": {},
     "output_type": "execute_result"
    }
   ],
   "source": [
    "\"\"\"from sklearn import preprocessing\n",
    "label_encoder = preprocessing.LabelEncoder()\n",
    "train['Embarked'] = label_encoder.fit_transform(train['Embarked'])\"\"\""
   ]
  },
  {
   "cell_type": "code",
   "execution_count": 1255,
   "id": "386c6d60",
   "metadata": {},
   "outputs": [
    {
     "data": {
      "text/html": [
       "<div>\n",
       "<style scoped>\n",
       "    .dataframe tbody tr th:only-of-type {\n",
       "        vertical-align: middle;\n",
       "    }\n",
       "\n",
       "    .dataframe tbody tr th {\n",
       "        vertical-align: top;\n",
       "    }\n",
       "\n",
       "    .dataframe thead th {\n",
       "        text-align: right;\n",
       "    }\n",
       "</style>\n",
       "<table border=\"1\" class=\"dataframe\">\n",
       "  <thead>\n",
       "    <tr style=\"text-align: right;\">\n",
       "      <th></th>\n",
       "      <th>Survived</th>\n",
       "      <th>Pclass</th>\n",
       "      <th>Sex</th>\n",
       "      <th>Age</th>\n",
       "      <th>SibSp</th>\n",
       "      <th>Parch</th>\n",
       "      <th>Fare</th>\n",
       "      <th>Embarked</th>\n",
       "    </tr>\n",
       "  </thead>\n",
       "  <tbody>\n",
       "    <tr>\n",
       "      <th>0</th>\n",
       "      <td>0</td>\n",
       "      <td>3</td>\n",
       "      <td>male</td>\n",
       "      <td>22.0</td>\n",
       "      <td>1</td>\n",
       "      <td>0</td>\n",
       "      <td>7.2500</td>\n",
       "      <td>S</td>\n",
       "    </tr>\n",
       "    <tr>\n",
       "      <th>1</th>\n",
       "      <td>1</td>\n",
       "      <td>1</td>\n",
       "      <td>female</td>\n",
       "      <td>38.0</td>\n",
       "      <td>1</td>\n",
       "      <td>0</td>\n",
       "      <td>71.2833</td>\n",
       "      <td>C</td>\n",
       "    </tr>\n",
       "    <tr>\n",
       "      <th>2</th>\n",
       "      <td>1</td>\n",
       "      <td>3</td>\n",
       "      <td>female</td>\n",
       "      <td>26.0</td>\n",
       "      <td>0</td>\n",
       "      <td>0</td>\n",
       "      <td>7.9250</td>\n",
       "      <td>S</td>\n",
       "    </tr>\n",
       "    <tr>\n",
       "      <th>3</th>\n",
       "      <td>1</td>\n",
       "      <td>1</td>\n",
       "      <td>female</td>\n",
       "      <td>35.0</td>\n",
       "      <td>1</td>\n",
       "      <td>0</td>\n",
       "      <td>53.1000</td>\n",
       "      <td>S</td>\n",
       "    </tr>\n",
       "    <tr>\n",
       "      <th>4</th>\n",
       "      <td>0</td>\n",
       "      <td>3</td>\n",
       "      <td>male</td>\n",
       "      <td>35.0</td>\n",
       "      <td>0</td>\n",
       "      <td>0</td>\n",
       "      <td>8.0500</td>\n",
       "      <td>S</td>\n",
       "    </tr>\n",
       "  </tbody>\n",
       "</table>\n",
       "</div>"
      ],
      "text/plain": [
       "   Survived  Pclass     Sex   Age  SibSp  Parch     Fare Embarked\n",
       "0         0       3    male  22.0      1      0   7.2500        S\n",
       "1         1       1  female  38.0      1      0  71.2833        C\n",
       "2         1       3  female  26.0      0      0   7.9250        S\n",
       "3         1       1  female  35.0      1      0  53.1000        S\n",
       "4         0       3    male  35.0      0      0   8.0500        S"
      ]
     },
     "execution_count": 1255,
     "metadata": {},
     "output_type": "execute_result"
    }
   ],
   "source": [
    "train.head()"
   ]
  },
  {
   "cell_type": "markdown",
   "id": "6c97584d",
   "metadata": {},
   "source": [
    "One hot encoding"
   ]
  },
  {
   "cell_type": "code",
   "execution_count": 1256,
   "id": "b614cb04",
   "metadata": {},
   "outputs": [],
   "source": [
    "train = pd.get_dummies(train, columns=['Sex', 'Embarked'])"
   ]
  },
  {
   "cell_type": "code",
   "execution_count": 1257,
   "id": "42c2d57d",
   "metadata": {},
   "outputs": [],
   "source": [
    "submission = pd.get_dummies(submission, columns=['Sex', 'Embarked'])"
   ]
  },
  {
   "cell_type": "code",
   "execution_count": 1258,
   "id": "2302406f",
   "metadata": {},
   "outputs": [
    {
     "data": {
      "text/html": [
       "<div>\n",
       "<style scoped>\n",
       "    .dataframe tbody tr th:only-of-type {\n",
       "        vertical-align: middle;\n",
       "    }\n",
       "\n",
       "    .dataframe tbody tr th {\n",
       "        vertical-align: top;\n",
       "    }\n",
       "\n",
       "    .dataframe thead th {\n",
       "        text-align: right;\n",
       "    }\n",
       "</style>\n",
       "<table border=\"1\" class=\"dataframe\">\n",
       "  <thead>\n",
       "    <tr style=\"text-align: right;\">\n",
       "      <th></th>\n",
       "      <th>Survived</th>\n",
       "      <th>Pclass</th>\n",
       "      <th>Age</th>\n",
       "      <th>SibSp</th>\n",
       "      <th>Parch</th>\n",
       "      <th>Fare</th>\n",
       "      <th>Sex_female</th>\n",
       "      <th>Sex_male</th>\n",
       "      <th>Embarked_C</th>\n",
       "      <th>Embarked_Q</th>\n",
       "      <th>Embarked_S</th>\n",
       "    </tr>\n",
       "  </thead>\n",
       "  <tbody>\n",
       "    <tr>\n",
       "      <th>0</th>\n",
       "      <td>0</td>\n",
       "      <td>3</td>\n",
       "      <td>22.0</td>\n",
       "      <td>1</td>\n",
       "      <td>0</td>\n",
       "      <td>7.2500</td>\n",
       "      <td>0</td>\n",
       "      <td>1</td>\n",
       "      <td>0</td>\n",
       "      <td>0</td>\n",
       "      <td>1</td>\n",
       "    </tr>\n",
       "    <tr>\n",
       "      <th>1</th>\n",
       "      <td>1</td>\n",
       "      <td>1</td>\n",
       "      <td>38.0</td>\n",
       "      <td>1</td>\n",
       "      <td>0</td>\n",
       "      <td>71.2833</td>\n",
       "      <td>1</td>\n",
       "      <td>0</td>\n",
       "      <td>1</td>\n",
       "      <td>0</td>\n",
       "      <td>0</td>\n",
       "    </tr>\n",
       "    <tr>\n",
       "      <th>2</th>\n",
       "      <td>1</td>\n",
       "      <td>3</td>\n",
       "      <td>26.0</td>\n",
       "      <td>0</td>\n",
       "      <td>0</td>\n",
       "      <td>7.9250</td>\n",
       "      <td>1</td>\n",
       "      <td>0</td>\n",
       "      <td>0</td>\n",
       "      <td>0</td>\n",
       "      <td>1</td>\n",
       "    </tr>\n",
       "    <tr>\n",
       "      <th>3</th>\n",
       "      <td>1</td>\n",
       "      <td>1</td>\n",
       "      <td>35.0</td>\n",
       "      <td>1</td>\n",
       "      <td>0</td>\n",
       "      <td>53.1000</td>\n",
       "      <td>1</td>\n",
       "      <td>0</td>\n",
       "      <td>0</td>\n",
       "      <td>0</td>\n",
       "      <td>1</td>\n",
       "    </tr>\n",
       "    <tr>\n",
       "      <th>4</th>\n",
       "      <td>0</td>\n",
       "      <td>3</td>\n",
       "      <td>35.0</td>\n",
       "      <td>0</td>\n",
       "      <td>0</td>\n",
       "      <td>8.0500</td>\n",
       "      <td>0</td>\n",
       "      <td>1</td>\n",
       "      <td>0</td>\n",
       "      <td>0</td>\n",
       "      <td>1</td>\n",
       "    </tr>\n",
       "  </tbody>\n",
       "</table>\n",
       "</div>"
      ],
      "text/plain": [
       "   Survived  Pclass   Age  SibSp  Parch     Fare  Sex_female  Sex_male  \\\n",
       "0         0       3  22.0      1      0   7.2500           0         1   \n",
       "1         1       1  38.0      1      0  71.2833           1         0   \n",
       "2         1       3  26.0      0      0   7.9250           1         0   \n",
       "3         1       1  35.0      1      0  53.1000           1         0   \n",
       "4         0       3  35.0      0      0   8.0500           0         1   \n",
       "\n",
       "   Embarked_C  Embarked_Q  Embarked_S  \n",
       "0           0           0           1  \n",
       "1           1           0           0  \n",
       "2           0           0           1  \n",
       "3           0           0           1  \n",
       "4           0           0           1  "
      ]
     },
     "execution_count": 1258,
     "metadata": {},
     "output_type": "execute_result"
    }
   ],
   "source": [
    "train.head()"
   ]
  },
  {
   "cell_type": "markdown",
   "id": "79fce08c",
   "metadata": {},
   "source": [
    "# Normalization"
   ]
  },
  {
   "cell_type": "code",
   "execution_count": 1259,
   "id": "165508ee",
   "metadata": {},
   "outputs": [],
   "source": [
    "y = train['Survived']\n",
    "train.drop(['Survived'], inplace = True, axis = 1)"
   ]
  },
  {
   "cell_type": "code",
   "execution_count": 1260,
   "id": "cef0b7b7",
   "metadata": {
    "scrolled": true
   },
   "outputs": [
    {
     "data": {
      "text/html": [
       "<div>\n",
       "<style scoped>\n",
       "    .dataframe tbody tr th:only-of-type {\n",
       "        vertical-align: middle;\n",
       "    }\n",
       "\n",
       "    .dataframe tbody tr th {\n",
       "        vertical-align: top;\n",
       "    }\n",
       "\n",
       "    .dataframe thead th {\n",
       "        text-align: right;\n",
       "    }\n",
       "</style>\n",
       "<table border=\"1\" class=\"dataframe\">\n",
       "  <thead>\n",
       "    <tr style=\"text-align: right;\">\n",
       "      <th></th>\n",
       "      <th>Pclass</th>\n",
       "      <th>Age</th>\n",
       "      <th>SibSp</th>\n",
       "      <th>Parch</th>\n",
       "      <th>Fare</th>\n",
       "      <th>Sex_female</th>\n",
       "      <th>Sex_male</th>\n",
       "      <th>Embarked_C</th>\n",
       "      <th>Embarked_Q</th>\n",
       "      <th>Embarked_S</th>\n",
       "    </tr>\n",
       "  </thead>\n",
       "  <tbody>\n",
       "    <tr>\n",
       "      <th>0</th>\n",
       "      <td>3</td>\n",
       "      <td>22.0</td>\n",
       "      <td>1</td>\n",
       "      <td>0</td>\n",
       "      <td>7.2500</td>\n",
       "      <td>0</td>\n",
       "      <td>1</td>\n",
       "      <td>0</td>\n",
       "      <td>0</td>\n",
       "      <td>1</td>\n",
       "    </tr>\n",
       "    <tr>\n",
       "      <th>1</th>\n",
       "      <td>1</td>\n",
       "      <td>38.0</td>\n",
       "      <td>1</td>\n",
       "      <td>0</td>\n",
       "      <td>71.2833</td>\n",
       "      <td>1</td>\n",
       "      <td>0</td>\n",
       "      <td>1</td>\n",
       "      <td>0</td>\n",
       "      <td>0</td>\n",
       "    </tr>\n",
       "    <tr>\n",
       "      <th>2</th>\n",
       "      <td>3</td>\n",
       "      <td>26.0</td>\n",
       "      <td>0</td>\n",
       "      <td>0</td>\n",
       "      <td>7.9250</td>\n",
       "      <td>1</td>\n",
       "      <td>0</td>\n",
       "      <td>0</td>\n",
       "      <td>0</td>\n",
       "      <td>1</td>\n",
       "    </tr>\n",
       "    <tr>\n",
       "      <th>3</th>\n",
       "      <td>1</td>\n",
       "      <td>35.0</td>\n",
       "      <td>1</td>\n",
       "      <td>0</td>\n",
       "      <td>53.1000</td>\n",
       "      <td>1</td>\n",
       "      <td>0</td>\n",
       "      <td>0</td>\n",
       "      <td>0</td>\n",
       "      <td>1</td>\n",
       "    </tr>\n",
       "    <tr>\n",
       "      <th>4</th>\n",
       "      <td>3</td>\n",
       "      <td>35.0</td>\n",
       "      <td>0</td>\n",
       "      <td>0</td>\n",
       "      <td>8.0500</td>\n",
       "      <td>0</td>\n",
       "      <td>1</td>\n",
       "      <td>0</td>\n",
       "      <td>0</td>\n",
       "      <td>1</td>\n",
       "    </tr>\n",
       "  </tbody>\n",
       "</table>\n",
       "</div>"
      ],
      "text/plain": [
       "   Pclass   Age  SibSp  Parch     Fare  Sex_female  Sex_male  Embarked_C  \\\n",
       "0       3  22.0      1      0   7.2500           0         1           0   \n",
       "1       1  38.0      1      0  71.2833           1         0           1   \n",
       "2       3  26.0      0      0   7.9250           1         0           0   \n",
       "3       1  35.0      1      0  53.1000           1         0           0   \n",
       "4       3  35.0      0      0   8.0500           0         1           0   \n",
       "\n",
       "   Embarked_Q  Embarked_S  \n",
       "0           0           1  \n",
       "1           0           0  \n",
       "2           0           1  \n",
       "3           0           1  \n",
       "4           0           1  "
      ]
     },
     "execution_count": 1260,
     "metadata": {},
     "output_type": "execute_result"
    }
   ],
   "source": [
    "train.head()"
   ]
  },
  {
   "cell_type": "code",
   "execution_count": 1261,
   "id": "b50dac84",
   "metadata": {},
   "outputs": [],
   "source": [
    "train = (train-train.mean())/train.std()\n",
    "submission = (submission - submission.mean()) / submission.std()"
   ]
  },
  {
   "cell_type": "code",
   "execution_count": 1262,
   "id": "a28dc41c",
   "metadata": {},
   "outputs": [
    {
     "data": {
      "text/plain": [
       "'submission =(submission-submission.min())/(submission.max()-submission.min())'"
      ]
     },
     "execution_count": 1262,
     "metadata": {},
     "output_type": "execute_result"
    }
   ],
   "source": [
    "\"\"\"train =(train-train.min())/(train.max()-train.min())\"\"\"\n",
    "\"\"\"submission =(submission-submission.min())/(submission.max()-submission.min())\"\"\""
   ]
  },
  {
   "cell_type": "markdown",
   "id": "320310b7",
   "metadata": {},
   "source": [
    "# Congrats, now we can use a model to predict"
   ]
  },
  {
   "cell_type": "code",
   "execution_count": null,
   "id": "32c62fff",
   "metadata": {},
   "outputs": [],
   "source": []
  },
  {
   "cell_type": "code",
   "execution_count": 1263,
   "id": "ecaedfe7",
   "metadata": {},
   "outputs": [
    {
     "data": {
      "text/plain": [
       "(891, 10)"
      ]
     },
     "execution_count": 1263,
     "metadata": {},
     "output_type": "execute_result"
    }
   ],
   "source": [
    "train.shape"
   ]
  },
  {
   "cell_type": "code",
   "execution_count": 1264,
   "id": "c1fa9c36",
   "metadata": {},
   "outputs": [],
   "source": [
    "from sklearn.model_selection import train_test_split\n",
    "x_train, x_test, y_train, y_test = train_test_split(train, y, test_size=0.2, random_state=42)"
   ]
  },
  {
   "cell_type": "code",
   "execution_count": 1265,
   "id": "acd4c971",
   "metadata": {},
   "outputs": [
    {
     "data": {
      "text/plain": [
       "(712, 10)"
      ]
     },
     "execution_count": 1265,
     "metadata": {},
     "output_type": "execute_result"
    }
   ],
   "source": [
    "x_train.shape"
   ]
  },
  {
   "cell_type": "code",
   "execution_count": 1266,
   "id": "d3487924",
   "metadata": {},
   "outputs": [
    {
     "data": {
      "text/plain": [
       "(712,)"
      ]
     },
     "execution_count": 1266,
     "metadata": {},
     "output_type": "execute_result"
    }
   ],
   "source": [
    "y_train.shape"
   ]
  },
  {
   "cell_type": "code",
   "execution_count": 1267,
   "id": "6247efea",
   "metadata": {},
   "outputs": [
    {
     "data": {
      "text/plain": [
       "(179, 10)"
      ]
     },
     "execution_count": 1267,
     "metadata": {},
     "output_type": "execute_result"
    }
   ],
   "source": [
    "x_test.shape"
   ]
  },
  {
   "cell_type": "markdown",
   "id": "dcaafc2a",
   "metadata": {},
   "source": [
    "## Create the model"
   ]
  },
  {
   "cell_type": "code",
   "execution_count": 1268,
   "id": "965ede67",
   "metadata": {},
   "outputs": [],
   "source": [
    "model = tf.keras.Sequential([\n",
    "    tf.keras.layers.Dense(8, activation = 'relu'),\n",
    "    tf.keras.layers.Dense(32, activation = 'relu'),\n",
    "    tf.keras.layers.Dense(8, activation = 'relu'),\n",
    "    tf.keras.layers.Dense(4, activation = 'relu'),\n",
    "    tf.keras.layers.Dense(2, activation = 'relu'),\n",
    "    tf.keras.layers.Dense(1, activation = 'sigmoid')\n",
    "])"
   ]
  },
  {
   "cell_type": "code",
   "execution_count": 1269,
   "id": "620c93ed",
   "metadata": {},
   "outputs": [],
   "source": [
    "#model.summary()"
   ]
  },
  {
   "cell_type": "code",
   "execution_count": 1270,
   "id": "f56a8cd9",
   "metadata": {},
   "outputs": [],
   "source": [
    "model.compile(loss = 'BinaryCrossentropy',\n",
    "             optimizer = 'adam',\n",
    "             metrics = ['acc'])"
   ]
  },
  {
   "cell_type": "code",
   "execution_count": null,
   "id": "3c764b24",
   "metadata": {},
   "outputs": [],
   "source": []
  },
  {
   "cell_type": "code",
   "execution_count": 1271,
   "id": "b57e1aeb",
   "metadata": {},
   "outputs": [
    {
     "name": "stdout",
     "output_type": "stream",
     "text": [
      "Epoch 1/100\n",
      "23/23 [==============================] - 1s 7ms/step - loss: 0.6596 - acc: 0.6236\n",
      "Epoch 2/100\n",
      "23/23 [==============================] - 0s 7ms/step - loss: 0.6246 - acc: 0.6236\n",
      "Epoch 3/100\n",
      "23/23 [==============================] - 0s 6ms/step - loss: 0.5923 - acc: 0.6236\n",
      "Epoch 4/100\n",
      "23/23 [==============================] - 0s 6ms/step - loss: 0.5637 - acc: 0.6236\n",
      "Epoch 5/100\n",
      "23/23 [==============================] - 0s 6ms/step - loss: 0.5461 - acc: 0.6236\n",
      "Epoch 6/100\n",
      "23/23 [==============================] - 0s 6ms/step - loss: 0.5373 - acc: 0.6419\n",
      "Epoch 7/100\n",
      "23/23 [==============================] - 0s 6ms/step - loss: 0.5295 - acc: 0.8020\n",
      "Epoch 8/100\n",
      "23/23 [==============================] - 0s 6ms/step - loss: 0.5220 - acc: 0.8006\n",
      "Epoch 9/100\n",
      "23/23 [==============================] - 0s 6ms/step - loss: 0.5168 - acc: 0.8132\n",
      "Epoch 10/100\n",
      "23/23 [==============================] - 0s 6ms/step - loss: 0.5119 - acc: 0.8146\n",
      "Epoch 11/100\n",
      "23/23 [==============================] - 0s 5ms/step - loss: 0.5084 - acc: 0.8174\n",
      "Epoch 12/100\n",
      "23/23 [==============================] - 0s 6ms/step - loss: 0.5031 - acc: 0.8160\n",
      "Epoch 13/100\n",
      "23/23 [==============================] - 0s 6ms/step - loss: 0.5007 - acc: 0.8174\n",
      "Epoch 14/100\n",
      "23/23 [==============================] - 0s 6ms/step - loss: 0.4969 - acc: 0.8188\n",
      "Epoch 15/100\n",
      "23/23 [==============================] - 0s 6ms/step - loss: 0.4949 - acc: 0.8230\n",
      "Epoch 16/100\n",
      "23/23 [==============================] - 0s 6ms/step - loss: 0.4910 - acc: 0.8272\n",
      "Epoch 17/100\n",
      "23/23 [==============================] - 0s 5ms/step - loss: 0.4874 - acc: 0.8301\n",
      "Epoch 18/100\n",
      "23/23 [==============================] - 0s 5ms/step - loss: 0.4866 - acc: 0.8329\n",
      "Epoch 19/100\n",
      "23/23 [==============================] - 0s 5ms/step - loss: 0.4820 - acc: 0.8343\n",
      "Epoch 20/100\n",
      "23/23 [==============================] - 0s 5ms/step - loss: 0.4798 - acc: 0.8329\n",
      "Epoch 21/100\n",
      "23/23 [==============================] - 0s 5ms/step - loss: 0.4768 - acc: 0.8343\n",
      "Epoch 22/100\n",
      "23/23 [==============================] - 0s 6ms/step - loss: 0.4750 - acc: 0.8357\n",
      "Epoch 23/100\n",
      "23/23 [==============================] - 0s 6ms/step - loss: 0.4723 - acc: 0.8371\n",
      "Epoch 24/100\n",
      "23/23 [==============================] - 0s 5ms/step - loss: 0.4697 - acc: 0.8301\n",
      "Epoch 25/100\n",
      "23/23 [==============================] - 0s 6ms/step - loss: 0.4674 - acc: 0.8343\n",
      "Epoch 26/100\n",
      "23/23 [==============================] - 0s 6ms/step - loss: 0.4656 - acc: 0.8343\n",
      "Epoch 27/100\n",
      "23/23 [==============================] - 0s 5ms/step - loss: 0.4636 - acc: 0.8371\n",
      "Epoch 28/100\n",
      "23/23 [==============================] - 0s 6ms/step - loss: 0.4623 - acc: 0.8399\n",
      "Epoch 29/100\n",
      "23/23 [==============================] - 0s 6ms/step - loss: 0.4596 - acc: 0.8413\n",
      "Epoch 30/100\n",
      "23/23 [==============================] - 0s 6ms/step - loss: 0.4571 - acc: 0.8371\n",
      "Epoch 31/100\n",
      "23/23 [==============================] - 0s 6ms/step - loss: 0.4555 - acc: 0.8427\n",
      "Epoch 32/100\n",
      "23/23 [==============================] - 0s 5ms/step - loss: 0.4533 - acc: 0.8413\n",
      "Epoch 33/100\n",
      "23/23 [==============================] - 0s 6ms/step - loss: 0.4527 - acc: 0.8399\n",
      "Epoch 34/100\n",
      "23/23 [==============================] - 0s 6ms/step - loss: 0.4501 - acc: 0.8413\n",
      "Epoch 35/100\n",
      "23/23 [==============================] - 0s 6ms/step - loss: 0.4487 - acc: 0.8441\n",
      "Epoch 36/100\n",
      "23/23 [==============================] - 0s 6ms/step - loss: 0.4477 - acc: 0.8343\n",
      "Epoch 37/100\n",
      "23/23 [==============================] - 0s 5ms/step - loss: 0.4471 - acc: 0.8427\n",
      "Epoch 38/100\n",
      "23/23 [==============================] - 0s 6ms/step - loss: 0.4429 - acc: 0.8497\n",
      "Epoch 39/100\n",
      "23/23 [==============================] - 0s 5ms/step - loss: 0.4427 - acc: 0.8399\n",
      "Epoch 40/100\n",
      "23/23 [==============================] - 0s 6ms/step - loss: 0.4400 - acc: 0.8455\n",
      "Epoch 41/100\n",
      "23/23 [==============================] - 0s 5ms/step - loss: 0.4395 - acc: 0.8399\n",
      "Epoch 42/100\n",
      "23/23 [==============================] - 0s 6ms/step - loss: 0.4370 - acc: 0.8469\n",
      "Epoch 43/100\n",
      "23/23 [==============================] - 0s 6ms/step - loss: 0.4369 - acc: 0.8455\n",
      "Epoch 44/100\n",
      "23/23 [==============================] - 0s 5ms/step - loss: 0.4344 - acc: 0.8483\n",
      "Epoch 45/100\n",
      "23/23 [==============================] - 0s 5ms/step - loss: 0.4335 - acc: 0.8413\n",
      "Epoch 46/100\n",
      "23/23 [==============================] - 0s 5ms/step - loss: 0.4329 - acc: 0.8455\n",
      "Epoch 47/100\n",
      "23/23 [==============================] - 0s 5ms/step - loss: 0.4304 - acc: 0.8469\n",
      "Epoch 48/100\n",
      "23/23 [==============================] - 0s 5ms/step - loss: 0.4289 - acc: 0.8427\n",
      "Epoch 49/100\n",
      "23/23 [==============================] - 0s 5ms/step - loss: 0.4279 - acc: 0.8441\n",
      "Epoch 50/100\n",
      "23/23 [==============================] - 0s 5ms/step - loss: 0.4257 - acc: 0.8441\n",
      "Epoch 51/100\n",
      "23/23 [==============================] - 0s 5ms/step - loss: 0.4253 - acc: 0.8427\n",
      "Epoch 52/100\n",
      "23/23 [==============================] - 0s 6ms/step - loss: 0.4241 - acc: 0.8413\n",
      "Epoch 53/100\n",
      "23/23 [==============================] - 0s 5ms/step - loss: 0.4224 - acc: 0.8455\n",
      "Epoch 54/100\n",
      "23/23 [==============================] - 0s 5ms/step - loss: 0.4226 - acc: 0.8455\n",
      "Epoch 55/100\n",
      "23/23 [==============================] - 0s 5ms/step - loss: 0.4228 - acc: 0.8483\n",
      "Epoch 56/100\n",
      "23/23 [==============================] - 0s 6ms/step - loss: 0.4200 - acc: 0.8441\n",
      "Epoch 57/100\n",
      "23/23 [==============================] - 0s 6ms/step - loss: 0.4188 - acc: 0.8441\n",
      "Epoch 58/100\n",
      "23/23 [==============================] - 0s 6ms/step - loss: 0.4174 - acc: 0.8441\n",
      "Epoch 59/100\n",
      "23/23 [==============================] - 0s 6ms/step - loss: 0.4159 - acc: 0.8469\n",
      "Epoch 60/100\n",
      "23/23 [==============================] - 0s 5ms/step - loss: 0.4153 - acc: 0.8441\n",
      "Epoch 61/100\n",
      "23/23 [==============================] - 0s 6ms/step - loss: 0.4141 - acc: 0.8469\n",
      "Epoch 62/100\n",
      "23/23 [==============================] - 0s 6ms/step - loss: 0.4125 - acc: 0.8469\n",
      "Epoch 63/100\n",
      "23/23 [==============================] - 0s 6ms/step - loss: 0.4132 - acc: 0.8413\n",
      "Epoch 64/100\n",
      "23/23 [==============================] - 0s 5ms/step - loss: 0.4117 - acc: 0.8441\n",
      "Epoch 65/100\n",
      "23/23 [==============================] - 0s 6ms/step - loss: 0.4104 - acc: 0.8483\n",
      "Epoch 66/100\n",
      "23/23 [==============================] - 0s 6ms/step - loss: 0.4097 - acc: 0.8469\n",
      "Epoch 67/100\n",
      "23/23 [==============================] - 0s 6ms/step - loss: 0.4082 - acc: 0.8441\n",
      "Epoch 68/100\n",
      "23/23 [==============================] - 0s 6ms/step - loss: 0.4065 - acc: 0.8455\n",
      "Epoch 69/100\n",
      "23/23 [==============================] - 0s 5ms/step - loss: 0.4071 - acc: 0.8483\n",
      "Epoch 70/100\n",
      "23/23 [==============================] - 0s 6ms/step - loss: 0.4055 - acc: 0.8399\n",
      "Epoch 71/100\n",
      "23/23 [==============================] - 0s 6ms/step - loss: 0.4063 - acc: 0.8427\n",
      "Epoch 72/100\n",
      "23/23 [==============================] - 0s 6ms/step - loss: 0.4064 - acc: 0.8441\n",
      "Epoch 73/100\n",
      "23/23 [==============================] - 0s 6ms/step - loss: 0.4026 - acc: 0.8483\n",
      "Epoch 74/100\n",
      "23/23 [==============================] - 0s 6ms/step - loss: 0.4016 - acc: 0.8483\n",
      "Epoch 75/100\n",
      "23/23 [==============================] - 0s 6ms/step - loss: 0.4048 - acc: 0.8483\n",
      "Epoch 76/100\n",
      "23/23 [==============================] - 0s 6ms/step - loss: 0.4012 - acc: 0.8483\n",
      "Epoch 77/100\n",
      "23/23 [==============================] - 0s 6ms/step - loss: 0.4016 - acc: 0.8497\n",
      "Epoch 78/100\n",
      "23/23 [==============================] - 0s 5ms/step - loss: 0.3985 - acc: 0.8483\n",
      "Epoch 79/100\n",
      "23/23 [==============================] - 0s 6ms/step - loss: 0.3981 - acc: 0.8511\n",
      "Epoch 80/100\n",
      "23/23 [==============================] - 0s 5ms/step - loss: 0.3972 - acc: 0.8511\n",
      "Epoch 81/100\n",
      "23/23 [==============================] - 0s 6ms/step - loss: 0.3958 - acc: 0.8525\n",
      "Epoch 82/100\n",
      "23/23 [==============================] - 0s 6ms/step - loss: 0.3946 - acc: 0.8497\n",
      "Epoch 83/100\n",
      "23/23 [==============================] - 0s 6ms/step - loss: 0.3950 - acc: 0.8483\n",
      "Epoch 84/100\n",
      "23/23 [==============================] - 0s 6ms/step - loss: 0.3962 - acc: 0.8483\n",
      "Epoch 85/100\n",
      "23/23 [==============================] - 0s 6ms/step - loss: 0.3948 - acc: 0.8497\n",
      "Epoch 86/100\n",
      "23/23 [==============================] - 0s 5ms/step - loss: 0.3912 - acc: 0.8483\n",
      "Epoch 87/100\n"
     ]
    },
    {
     "name": "stdout",
     "output_type": "stream",
     "text": [
      "23/23 [==============================] - 0s 6ms/step - loss: 0.3946 - acc: 0.8455\n",
      "Epoch 88/100\n",
      "23/23 [==============================] - 0s 5ms/step - loss: 0.3911 - acc: 0.8525\n",
      "Epoch 89/100\n",
      "23/23 [==============================] - 0s 6ms/step - loss: 0.3916 - acc: 0.8483\n",
      "Epoch 90/100\n",
      "23/23 [==============================] - 0s 5ms/step - loss: 0.3923 - acc: 0.8469\n",
      "Epoch 91/100\n",
      "23/23 [==============================] - 0s 6ms/step - loss: 0.3900 - acc: 0.8497\n",
      "Epoch 92/100\n",
      "23/23 [==============================] - 0s 5ms/step - loss: 0.3886 - acc: 0.8511\n",
      "Epoch 93/100\n",
      "23/23 [==============================] - 0s 5ms/step - loss: 0.3869 - acc: 0.8511\n",
      "Epoch 94/100\n",
      "23/23 [==============================] - 0s 5ms/step - loss: 0.3856 - acc: 0.8539\n",
      "Epoch 95/100\n",
      "23/23 [==============================] - 0s 5ms/step - loss: 0.3894 - acc: 0.8539\n",
      "Epoch 96/100\n",
      "23/23 [==============================] - 0s 5ms/step - loss: 0.3912 - acc: 0.8469\n",
      "Epoch 97/100\n",
      "23/23 [==============================] - 0s 5ms/step - loss: 0.3846 - acc: 0.8525\n",
      "Epoch 98/100\n",
      "23/23 [==============================] - 0s 6ms/step - loss: 0.3832 - acc: 0.8511\n",
      "Epoch 99/100\n",
      "23/23 [==============================] - 0s 5ms/step - loss: 0.3836 - acc: 0.8525\n",
      "Epoch 100/100\n",
      "23/23 [==============================] - 0s 6ms/step - loss: 0.3851 - acc: 0.8553\n"
     ]
    },
    {
     "data": {
      "text/plain": [
       "<keras.callbacks.History at 0x2ee17636f40>"
      ]
     },
     "execution_count": 1271,
     "metadata": {},
     "output_type": "execute_result"
    }
   ],
   "source": [
    "model.fit(x_train, y_train, epochs = 100)"
   ]
  },
  {
   "cell_type": "code",
   "execution_count": 1272,
   "id": "e79c3c85",
   "metadata": {},
   "outputs": [
    {
     "name": "stdout",
     "output_type": "stream",
     "text": [
      "6/6 [==============================] - 0s 4ms/step - loss: 0.4607 - acc: 0.8101\n"
     ]
    },
    {
     "data": {
      "text/plain": [
       "[0.46071404218673706, 0.8100558519363403]"
      ]
     },
     "execution_count": 1272,
     "metadata": {},
     "output_type": "execute_result"
    }
   ],
   "source": [
    "model.evaluate(x_test, y_test)"
   ]
  },
  {
   "cell_type": "code",
   "execution_count": 1273,
   "id": "49da69fa",
   "metadata": {},
   "outputs": [
    {
     "data": {
      "text/html": [
       "<div>\n",
       "<style scoped>\n",
       "    .dataframe tbody tr th:only-of-type {\n",
       "        vertical-align: middle;\n",
       "    }\n",
       "\n",
       "    .dataframe tbody tr th {\n",
       "        vertical-align: top;\n",
       "    }\n",
       "\n",
       "    .dataframe thead th {\n",
       "        text-align: right;\n",
       "    }\n",
       "</style>\n",
       "<table border=\"1\" class=\"dataframe\">\n",
       "  <thead>\n",
       "    <tr style=\"text-align: right;\">\n",
       "      <th></th>\n",
       "      <th>Pclass</th>\n",
       "      <th>Age</th>\n",
       "      <th>SibSp</th>\n",
       "      <th>Parch</th>\n",
       "      <th>Fare</th>\n",
       "      <th>Sex_female</th>\n",
       "      <th>Sex_male</th>\n",
       "      <th>Embarked_C</th>\n",
       "      <th>Embarked_Q</th>\n",
       "      <th>Embarked_S</th>\n",
       "    </tr>\n",
       "  </thead>\n",
       "  <tbody>\n",
       "    <tr>\n",
       "      <th>0</th>\n",
       "      <td>0.872436</td>\n",
       "      <td>0.334592</td>\n",
       "      <td>-0.498872</td>\n",
       "      <td>-0.399769</td>\n",
       "      <td>-0.497213</td>\n",
       "      <td>-0.755024</td>\n",
       "      <td>0.755024</td>\n",
       "      <td>-0.567462</td>\n",
       "      <td>2.840354</td>\n",
       "      <td>-1.349059</td>\n",
       "    </tr>\n",
       "    <tr>\n",
       "      <th>1</th>\n",
       "      <td>0.872436</td>\n",
       "      <td>1.323944</td>\n",
       "      <td>0.616254</td>\n",
       "      <td>-0.399769</td>\n",
       "      <td>-0.512045</td>\n",
       "      <td>1.321292</td>\n",
       "      <td>-1.321292</td>\n",
       "      <td>-0.567462</td>\n",
       "      <td>-0.351227</td>\n",
       "      <td>0.739484</td>\n",
       "    </tr>\n",
       "    <tr>\n",
       "      <th>2</th>\n",
       "      <td>-0.315441</td>\n",
       "      <td>2.511166</td>\n",
       "      <td>-0.498872</td>\n",
       "      <td>-0.399769</td>\n",
       "      <td>-0.463974</td>\n",
       "      <td>-0.755024</td>\n",
       "      <td>0.755024</td>\n",
       "      <td>-0.567462</td>\n",
       "      <td>2.840354</td>\n",
       "      <td>-1.349059</td>\n",
       "    </tr>\n",
       "    <tr>\n",
       "      <th>3</th>\n",
       "      <td>0.872436</td>\n",
       "      <td>-0.259019</td>\n",
       "      <td>-0.498872</td>\n",
       "      <td>-0.399769</td>\n",
       "      <td>-0.482308</td>\n",
       "      <td>-0.755024</td>\n",
       "      <td>0.755024</td>\n",
       "      <td>-0.567462</td>\n",
       "      <td>-0.351227</td>\n",
       "      <td>0.739484</td>\n",
       "    </tr>\n",
       "    <tr>\n",
       "      <th>4</th>\n",
       "      <td>0.872436</td>\n",
       "      <td>-0.654760</td>\n",
       "      <td>0.616254</td>\n",
       "      <td>0.619154</td>\n",
       "      <td>-0.417469</td>\n",
       "      <td>1.321292</td>\n",
       "      <td>-1.321292</td>\n",
       "      <td>-0.567462</td>\n",
       "      <td>-0.351227</td>\n",
       "      <td>0.739484</td>\n",
       "    </tr>\n",
       "  </tbody>\n",
       "</table>\n",
       "</div>"
      ],
      "text/plain": [
       "     Pclass       Age     SibSp     Parch      Fare  Sex_female  Sex_male  \\\n",
       "0  0.872436  0.334592 -0.498872 -0.399769 -0.497213   -0.755024  0.755024   \n",
       "1  0.872436  1.323944  0.616254 -0.399769 -0.512045    1.321292 -1.321292   \n",
       "2 -0.315441  2.511166 -0.498872 -0.399769 -0.463974   -0.755024  0.755024   \n",
       "3  0.872436 -0.259019 -0.498872 -0.399769 -0.482308   -0.755024  0.755024   \n",
       "4  0.872436 -0.654760  0.616254  0.619154 -0.417469    1.321292 -1.321292   \n",
       "\n",
       "   Embarked_C  Embarked_Q  Embarked_S  \n",
       "0   -0.567462    2.840354   -1.349059  \n",
       "1   -0.567462   -0.351227    0.739484  \n",
       "2   -0.567462    2.840354   -1.349059  \n",
       "3   -0.567462   -0.351227    0.739484  \n",
       "4   -0.567462   -0.351227    0.739484  "
      ]
     },
     "execution_count": 1273,
     "metadata": {},
     "output_type": "execute_result"
    }
   ],
   "source": [
    "submission.head()"
   ]
  },
  {
   "cell_type": "code",
   "execution_count": 1274,
   "id": "6c372ab9",
   "metadata": {},
   "outputs": [],
   "source": [
    "submission_preds = (model.predict(submission) > 0.5).astype(\"int32\")"
   ]
  },
  {
   "cell_type": "code",
   "execution_count": 1275,
   "id": "31c93b7f",
   "metadata": {},
   "outputs": [],
   "source": [
    "submission_preds = submission_preds.reshape(-1)"
   ]
  },
  {
   "cell_type": "code",
   "execution_count": 1276,
   "id": "2ac8b634",
   "metadata": {},
   "outputs": [],
   "source": [
    "df = pd.DataFrame({\"PassengerId\":submission_ids.values,\n",
    "                  \"Survived\": submission_preds})"
   ]
  },
  {
   "cell_type": "code",
   "execution_count": 1277,
   "id": "d714b977",
   "metadata": {},
   "outputs": [],
   "source": [
    "df.to_csv(\"submission.csv\", index=False)"
   ]
  },
  {
   "cell_type": "code",
   "execution_count": null,
   "id": "548093e6",
   "metadata": {},
   "outputs": [],
   "source": []
  }
 ],
 "metadata": {
  "kernelspec": {
   "display_name": "Python 3",
   "language": "python",
   "name": "python3"
  },
  "language_info": {
   "codemirror_mode": {
    "name": "ipython",
    "version": 3
   },
   "file_extension": ".py",
   "mimetype": "text/x-python",
   "name": "python",
   "nbconvert_exporter": "python",
   "pygments_lexer": "ipython3",
   "version": "3.8.5"
  }
 },
 "nbformat": 4,
 "nbformat_minor": 5
}
